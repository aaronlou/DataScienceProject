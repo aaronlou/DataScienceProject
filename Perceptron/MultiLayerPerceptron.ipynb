{
 "cells": [
  {
   "cell_type": "markdown",
   "metadata": {},
   "source": [
    "分两步，先了解单层的感知机算法怎么应用；然后再过渡到多层感知机。"
   ]
  },
  {
   "cell_type": "markdown",
   "metadata": {},
   "source": [
    "# 一、先来建立一个简单的感知机来分类线性可分数据"
   ]
  },
  {
   "cell_type": "markdown",
   "metadata": {},
   "source": [
    "### 构造一个线性可分的数据"
   ]
  },
  {
   "cell_type": "code",
   "execution_count": 1,
   "metadata": {},
   "outputs": [],
   "source": [
    "import numpy as np"
   ]
  },
  {
   "cell_type": "code",
   "execution_count": 2,
   "metadata": {},
   "outputs": [],
   "source": [
    "X = np.array([[0,0],[0,1],[1,0],[1,1]])\n",
    "Y = np.array([0,0,0,1])"
   ]
  },
  {
   "cell_type": "code",
   "execution_count": 3,
   "metadata": {},
   "outputs": [
    {
     "name": "stdout",
     "output_type": "stream",
     "text": [
      "[[0 0]\n",
      " [0 1]\n",
      " [1 0]\n",
      " [1 1]]\n",
      "[0 0 0 1]\n"
     ]
    },
    {
     "data": {
      "text/plain": [
       "(None, None)"
      ]
     },
     "execution_count": 3,
     "metadata": {},
     "output_type": "execute_result"
    }
   ],
   "source": [
    "print(X),print(Y)"
   ]
  },
  {
   "cell_type": "code",
   "execution_count": 7,
   "metadata": {},
   "outputs": [
    {
     "data": {
      "image/png": "[encoded data removed]",
      "text/plain": [
       "<Figure size 432x288 with 1 Axes>"
      ]
     },
     "metadata": {
      "needs_background": "light"
     },
     "output_type": "display_data"
    }
   ],
   "source": [
    "import matplotlib.pyplot as plt\n",
    "plt.scatter(X[:,0],X[:,1],c=Y)\n",
    "plt.show()"
   ]
  },
  {
   "cell_type": "markdown",
   "metadata": {},
   "source": [
    "### 使用sklearn中的感知机算法包来进行分类"
   ]
  },
  {
   "cell_type": "markdown",
   "metadata": {},
   "source": [
    "sklearn中感知机接口的详细说明详见：https://scikit-learn.org/stable/modules/generated/sklearn.linear_model.Perceptron.html#sklearn.linear_model.Perceptron"
   ]
  },
  {
   "cell_type": "code",
   "execution_count": 40,
   "metadata": {},
   "outputs": [
    {
     "data": {
      "text/plain": [
       "array([0, 0, 0, 1])"
      ]
     },
     "execution_count": 40,
     "metadata": {},
     "output_type": "execute_result"
    }
   ],
   "source": [
    "from sklearn.linear_model import Perceptron\n",
    "# clf = Perceptron(penalty = 'l2' ,random_state= 10)\n",
    "clf = Perceptron(random_state= 100)\n",
    "model = clf.fit(X,Y)\n",
    "\n",
    "\n",
    "model.predict([[0,0],[0,1],[1,0],[1,1]])"
   ]
  },
  {
   "cell_type": "markdown",
   "metadata": {},
   "source": [
    "#### 把这条决策边界画出来"
   ]
  },
  {
   "cell_type": "code",
   "execution_count": 37,
   "metadata": {},
   "outputs": [
    {
     "name": "stdout",
     "output_type": "stream",
     "text": [
      "[-3.]\n",
      "[[2. 2.]]\n"
     ]
    }
   ],
   "source": [
    "print(model.intercept_)\n",
    "print(model.coef_)"
   ]
  },
  {
   "cell_type": "code",
   "execution_count": 38,
   "metadata": {},
   "outputs": [
    {
     "data": {
      "image/png": "[encoded data removed]",
      "text/plain": [
       "<Figure size 432x288 with 1 Axes>"
      ]
     },
     "metadata": {
      "needs_background": "light"
     },
     "output_type": "display_data"
    }
   ],
   "source": [
    "#用上述的系数生成一系列数据点，用于画直线\n",
    "x = np.arange(0,1,0.01)\n",
    "y = (x * model.coef_[0][0] + model.intercept_[0] ) * (-1) / model.coef_[0][1]   #因为决策平面是wx+y=0\n",
    "plt.plot(x,y)\n",
    "plt.scatter(X[:,0],X[:,1],c=Y)\n",
    "plt.show()"
   ]
  },
  {
   "cell_type": "markdown",
   "metadata": {},
   "source": [
    "#### 用此前使用过的“西瓜”数据集来进行尝试"
   ]
  },
  {
   "cell_type": "code",
   "execution_count": 46,
   "metadata": {},
   "outputs": [
    {
     "name": "stdout",
     "output_type": "stream",
     "text": [
      "   x0_乌黑  x0_浅白  x0_青绿  x1_硬挺  x1_稍蜷  x1_蜷缩  x2_沉闷  x2_浊响  x2_清脆  x3_模糊  \\\n",
      "0    1.0    0.0    0.0    0.0    1.0    0.0    0.0    1.0    0.0    0.0   \n",
      "1    1.0    0.0    0.0    0.0    1.0    0.0    1.0    0.0    0.0    0.0   \n",
      "2    0.0    1.0    0.0    1.0    0.0    0.0    0.0    0.0    1.0    1.0   \n",
      "\n",
      "   x3_清晰  x3_稍糊  x4_凹陷  x4_平坦  x4_稍凹  x5_硬滑  x5_软粘  density  sugar  \n",
      "0    0.0    1.0    0.0    0.0    1.0    0.0    1.0    0.481  0.149  \n",
      "1    0.0    1.0    0.0    0.0    1.0    1.0    0.0    0.666  0.091  \n",
      "2    0.0    0.0    0.0    1.0    0.0    1.0    0.0    0.245  0.057  \n",
      "    class\n",
      "6       1\n",
      "8       0\n",
      "10      0\n"
     ]
    }
   ],
   "source": [
    "import pandas as pd\n",
    "data = pd.read_csv(\"/Users/lousiyuan/dataScience/gitSpace/DataScienceProject/Data/watermelon3_0.csv\",header=None)  #这一句要替换为自己电脑上的文件路径\n",
    "data.columns = [\"index\",\"color\",\"root\",\"noise\",\"texture\",\"navel\",\"touch\",\"density\",\"sugar\",\"class\"]\n",
    "\n",
    "\n",
    "#将数据拆成特征向量与目标变量\n",
    "X = data[[\"color\",\"root\",\"noise\",\"texture\",\"navel\",\"touch\",\"density\",\"sugar\"]]\n",
    "y = data[[\"class\"]]\n",
    "\n",
    "#拆分训练集与测试集\n",
    "from sklearn.model_selection import train_test_split\n",
    "X_train, X_test, y_train, y_test = train_test_split(X,y,random_state=10,test_size=0.20)\n",
    "\n",
    "# 进行必要的数据预处理\n",
    "#对特征变量进行 ONE-HOT-ENCODING\n",
    "from sklearn.preprocessing import OneHotEncoder\n",
    "ohe = OneHotEncoder(categories=\"auto\",handle_unknown = 'ignore')\n",
    "\n",
    "#对类别型的变量进行 ONE-HOT-ENCODING\n",
    "X_train_cate = X_train[[\"color\",\"root\",\"noise\",\"texture\",\"navel\",\"touch\"]]\n",
    "ohe = ohe.fit(X_train_cate)\n",
    "X_train_cate_ohe = pd.DataFrame(ohe.transform(X_train_cate).toarray())\n",
    "X_train_cate_ohe.columns = ohe.get_feature_names()\n",
    "\n",
    "\n",
    "# #对连续型变量无需进行标准化\n",
    "X_train_continous = X_train[[\"density\",\"sugar\"]]\n",
    "from sklearn import preprocessing\n",
    "scaler = preprocessing.StandardScaler().fit(X_train_continous)\n",
    "X_train_continous_scaled = pd.DataFrame(scaler.transform(X_train_continous))\n",
    "\n",
    "X_train_continous = pd.DataFrame(X_train[[\"density\",\"sugar\"]]).reset_index(drop=True)  #注意这里对索引进行重新排序，否则后面合并的时候会出现错位\n",
    "\n",
    "#再跟原来的特征变量合并到一起\n",
    "X_train_concat = pd.concat([X_train_cate_ohe,X_train_continous],axis=1)\n",
    "print(X_train_concat[:3])\n",
    "\n",
    "#对标签变量进行0-1编码，对于二分类，可以使用LabelBinarizer，但笔者更喜欢直接用map来显示转换\n",
    "y_train_label = pd.DataFrame(y_train[\"class\"].map({\"是\":1,\"否\":0}))\n",
    "print(y_train_label[:3])"
   ]
  },
  {
   "cell_type": "code",
   "execution_count": 47,
   "metadata": {},
   "outputs": [
    {
     "name": "stderr",
     "output_type": "stream",
     "text": [
      "/Users/lousiyuan/opt/anaconda3/lib/python3.7/site-packages/sklearn/utils/validation.py:724: DataConversionWarning: A column-vector y was passed when a 1d array was expected. Please change the shape of y to (n_samples, ), for example using ravel().\n",
      "  y = column_or_1d(y, warn=True)\n"
     ]
    }
   ],
   "source": [
    "#在训练集上进行训练\n",
    "from sklearn.linear_model import Perceptron\n",
    "clf = Perceptron(random_state= 100)\n",
    "model = clf.fit(X_train_concat,y_train_label)"
   ]
  },
  {
   "cell_type": "code",
   "execution_count": 50,
   "metadata": {},
   "outputs": [],
   "source": [
    "# 先对测试数据也进行一些数据预处理，注意要直接使用那些用于处理训练数据的转换操作实例，可以直接调用在训练数据fit好的算子\n",
    "X_test_cate = X_test[[\"color\",\"root\",\"noise\",\"texture\",\"navel\",\"touch\"]]\n",
    "#ohe是上面已经在训练数据上fit后的算子，这里可以直接调用\n",
    "X_test_cate_ohe = pd.DataFrame(ohe.transform(X_test_cate).toarray())\n",
    "X_test_cate_ohe.columns = ohe.get_feature_names()\n",
    "\n",
    "X_test_continous = pd.DataFrame(scaler.transform(X_test[[\"density\",\"sugar\"]])).reset_index(drop=True)\n",
    "\n",
    "#合并\n",
    "X_test_concat = pd.concat([X_test_cate_ohe,X_test_continous],axis=1)\n",
    "\n",
    "#对标签变量进行0-1编码，对于二分类，可以使用LabelBinarizer，但笔者更喜欢直接用map来显示转换\n",
    "y_test_label = pd.DataFrame(y_test[\"class\"].map({\"是\":1,\"否\":0}))"
   ]
  },
  {
   "cell_type": "code",
   "execution_count": 51,
   "metadata": {},
   "outputs": [
    {
     "data": {
      "text/plain": [
       "0.75"
      ]
     },
     "execution_count": 51,
     "metadata": {},
     "output_type": "execute_result"
    }
   ],
   "source": [
    "model.score(X_test_concat,y_test_label)"
   ]
  },
  {
   "cell_type": "code",
   "execution_count": 52,
   "metadata": {},
   "outputs": [
    {
     "name": "stdout",
     "output_type": "stream",
     "text": [
      "二分类准确率: 0.750000\n"
     ]
    }
   ],
   "source": [
    "#另一种求准确率的方法\n",
    "from sklearn.metrics import accuracy_score\n",
    "ratio = accuracy_score(y_test_label,model.predict(X_test_concat))\n",
    "print(\"二分类准确率: %f\" % (ratio))"
   ]
  },
  {
   "cell_type": "markdown",
   "metadata": {},
   "source": [
    "# 二、用多层感知机来进行线性不可分数据的分类"
   ]
  },
  {
   "cell_type": "markdown",
   "metadata": {},
   "source": [
    "构造线性不可分数据，即亦或问题"
   ]
  },
  {
   "cell_type": "code",
   "execution_count": 54,
   "metadata": {},
   "outputs": [
    {
     "data": {
      "image/png": "[encoded data removed]",
      "text/plain": [
       "<Figure size 432x288 with 1 Axes>"
      ]
     },
     "metadata": {
      "needs_background": "light"
     },
     "output_type": "display_data"
    }
   ],
   "source": [
    "X = np.array([[0,0],[0,1],[1,0],[1,1]])\n",
    "Y = np.array([1,0,0,1])\n",
    "\n",
    "plt.scatter(X[:,0],X[:,1],c=Y)\n",
    "plt.show()"
   ]
  },
  {
   "cell_type": "markdown",
   "metadata": {},
   "source": [
    "#### 先用前面的简单感知机来试一把, 感受下简单的感知机如何处理这类数据"
   ]
  },
  {
   "cell_type": "code",
   "execution_count": 59,
   "metadata": {},
   "outputs": [
    {
     "data": {
      "text/plain": [
       "0.5"
      ]
     },
     "execution_count": 59,
     "metadata": {},
     "output_type": "execute_result"
    }
   ],
   "source": [
    "clf = Perceptron(random_state= 10)\n",
    "model = clf.fit(X,Y)\n",
    "model.score(X,Y)"
   ]
  },
  {
   "cell_type": "code",
   "execution_count": 62,
   "metadata": {},
   "outputs": [
    {
     "data": {
      "image/png": "[encoded data removed]",
      "text/plain": [
       "<Figure size 432x288 with 1 Axes>"
      ]
     },
     "metadata": {
      "needs_background": "light"
     },
     "output_type": "display_data"
    }
   ],
   "source": [
    "x = np.arange(0,1,0.01)\n",
    "y = (x * model.coef_[0][0] + model.intercept_[0] ) * (-1) / model.coef_[0][1]   #因为决策平面是wx+y=0\n",
    "plt.plot(x,y)\n",
    "plt.scatter(X[:,0],X[:,1],c=Y)\n",
    "plt.show()"
   ]
  },
  {
   "cell_type": "markdown",
   "metadata": {},
   "source": [
    "#### 体验多层感知机"
   ]
  },
  {
   "cell_type": "markdown",
   "metadata": {},
   "source": [
    "sklearn中相关文档详见：https://scikit-learn.org/stable/modules/neural_networks_supervised.html#multi-layer-perceptron"
   ]
  },
  {
   "cell_type": "code",
   "execution_count": 74,
   "metadata": {},
   "outputs": [
    {
     "data": {
      "text/plain": [
       "1.0"
      ]
     },
     "execution_count": 74,
     "metadata": {},
     "output_type": "execute_result"
    }
   ],
   "source": [
    "from sklearn.neural_network import MLPClassifier\n",
    "multi_layer_clf = MLPClassifier(solver='sgd', alpha=0.0001,hidden_layer_sizes=(80, 2), random_state=1)\n",
    "model = multi_layer_clf.fit(X,Y)\n",
    "model.score(X,Y)"
   ]
  },
  {
   "cell_type": "code",
   "execution_count": 72,
   "metadata": {},
   "outputs": [],
   "source": [
    "import warnings\n",
    "warnings.filterwarnings(\"ignore\")"
   ]
  },
  {
   "cell_type": "code",
   "execution_count": 73,
   "metadata": {},
   "outputs": [
    {
     "data": {
      "image/png": "[encoded data removed]",
      "text/plain": [
       "<Figure size 432x288 with 1 Axes>"
      ]
     },
     "metadata": {
      "needs_background": "light"
     },
     "output_type": "display_data"
    }
   ],
   "source": [
    "# 针对不同隐藏层中的神经元数量\n",
    "model_score = []\n",
    "x = [i for i in range(2,100,1)]\n",
    "for i in x:\n",
    "    clf = MLPClassifier(solver='sgd', alpha=0.00001,hidden_layer_sizes=(i,2), random_state=1, activation = 'relu' )\n",
    "    model = clf.fit(X,Y)\n",
    "    model_score.append(model.score(X,Y))\n",
    "\n",
    "\n",
    "plt.plot(x,model_score)\n",
    "plt.show()"
   ]
  },
  {
   "cell_type": "markdown",
   "metadata": {},
   "source": [
    "#### 如果用这个多层感知机来分类“西瓜数据集”，会是什么效果？"
   ]
  },
  {
   "cell_type": "code",
   "execution_count": 108,
   "metadata": {},
   "outputs": [
    {
     "data": {
      "text/plain": [
       "0.75"
      ]
     },
     "execution_count": 108,
     "metadata": {},
     "output_type": "execute_result"
    }
   ],
   "source": [
    "multi_layer_clf = MLPClassifier(solver='adam', alpha=0.0001,hidden_layer_sizes=(100, 10), random_state=40)\n",
    "model = multi_layer_clf.fit(X_train_concat,y_train_label)\n",
    "model.score(X_test_concat,y_test_label)"
   ]
  },
  {
   "cell_type": "markdown",
   "metadata": {},
   "source": [
    "# 完"
   ]
  },
  {
   "cell_type": "code",
   "execution_count": null,
   "metadata": {},
   "outputs": [],
   "source": []
  }
 ],
 "metadata": {
  "kernelspec": {
   "display_name": "Python 3",
   "language": "python",
   "name": "python3"
  },
  "language_info": {
   "codemirror_mode": {
    "name": "ipython",
    "version": 3
   },
   "file_extension": ".py",
   "mimetype": "text/x-python",
   "name": "python",
   "nbconvert_exporter": "python",
   "pygments_lexer": "ipython3",
   "version": "3.7.4"
  }
 },
 "nbformat": 4,
 "nbformat_minor": 4
}
