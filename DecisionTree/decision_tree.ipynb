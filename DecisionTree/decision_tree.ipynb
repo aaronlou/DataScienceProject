{
 "cells": [
  {
   "cell_type": "markdown",
   "metadata": {},
   "source": [
    "# 使用说明"
   ]
  },
  {
   "cell_type": "markdown",
   "metadata": {},
   "source": [
    "本案例使用的数据已经上传到本人github代码库：https://github.com/aaronlou/DataScienceProject/tree/master/Data/watermelon3_0.csv\n",
    "\n",
    "----广告时间-----   \n",
    "欢迎关注本人以下创作栏目：  \n",
    "微信公众号：《实战数据分析挖掘》funCodingFunLife   \n",
    "知乎专栏：https://www.zhihu.com/people/cong-lin-xi-ren-wang/posts  \n",
    "CSDN博客专栏：https://me.csdn.net/a_step_further  "
   ]
  },
  {
   "cell_type": "markdown",
   "metadata": {},
   "source": [
    "# 导入数据，预处理"
   ]
  },
  {
   "cell_type": "code",
   "execution_count": 108,
   "metadata": {},
   "outputs": [],
   "source": [
    "import pandas as pd\n",
    "data = pd.read_csv(\"/Users/lousiyuan/dataScience/gitSpace/DataScienceProject/Data/watermelon3_0.csv\",header=None)  #这一句要替换为自己电脑上的文件路径\n",
    "data.columns = [\"index\",\"color\",\"root\",\"noise\",\"texture\",\"navel\",\"touch\",\"density\",\"sugar\",\"class\"]"
   ]
  },
  {
   "cell_type": "code",
   "execution_count": 109,
   "metadata": {},
   "outputs": [
    {
     "data": {
      "text/html": [
       "<div>\n",
       "<style scoped>\n",
       "    .dataframe tbody tr th:only-of-type {\n",
       "        vertical-align: middle;\n",
       "    }\n",
       "\n",
       "    .dataframe tbody tr th {\n",
       "        vertical-align: top;\n",
       "    }\n",
       "\n",
       "    .dataframe thead th {\n",
       "        text-align: right;\n",
       "    }\n",
       "</style>\n",
       "<table border=\"1\" class=\"dataframe\">\n",
       "  <thead>\n",
       "    <tr style=\"text-align: right;\">\n",
       "      <th></th>\n",
       "      <th>index</th>\n",
       "      <th>color</th>\n",
       "      <th>root</th>\n",
       "      <th>noise</th>\n",
       "      <th>texture</th>\n",
       "      <th>navel</th>\n",
       "      <th>touch</th>\n",
       "      <th>density</th>\n",
       "      <th>sugar</th>\n",
       "      <th>class</th>\n",
       "    </tr>\n",
       "  </thead>\n",
       "  <tbody>\n",
       "    <tr>\n",
       "      <td>0</td>\n",
       "      <td>1</td>\n",
       "      <td>青绿</td>\n",
       "      <td>蜷缩</td>\n",
       "      <td>浊响</td>\n",
       "      <td>清晰</td>\n",
       "      <td>凹陷</td>\n",
       "      <td>硬滑</td>\n",
       "      <td>0.697</td>\n",
       "      <td>0.460</td>\n",
       "      <td>是</td>\n",
       "    </tr>\n",
       "    <tr>\n",
       "      <td>1</td>\n",
       "      <td>2</td>\n",
       "      <td>乌黑</td>\n",
       "      <td>蜷缩</td>\n",
       "      <td>沉闷</td>\n",
       "      <td>清晰</td>\n",
       "      <td>凹陷</td>\n",
       "      <td>硬滑</td>\n",
       "      <td>0.774</td>\n",
       "      <td>0.376</td>\n",
       "      <td>是</td>\n",
       "    </tr>\n",
       "    <tr>\n",
       "      <td>2</td>\n",
       "      <td>3</td>\n",
       "      <td>乌黑</td>\n",
       "      <td>蜷缩</td>\n",
       "      <td>浊响</td>\n",
       "      <td>清晰</td>\n",
       "      <td>凹陷</td>\n",
       "      <td>硬滑</td>\n",
       "      <td>0.634</td>\n",
       "      <td>0.264</td>\n",
       "      <td>是</td>\n",
       "    </tr>\n",
       "    <tr>\n",
       "      <td>3</td>\n",
       "      <td>4</td>\n",
       "      <td>青绿</td>\n",
       "      <td>蜷缩</td>\n",
       "      <td>沉闷</td>\n",
       "      <td>清晰</td>\n",
       "      <td>凹陷</td>\n",
       "      <td>硬滑</td>\n",
       "      <td>0.608</td>\n",
       "      <td>0.318</td>\n",
       "      <td>是</td>\n",
       "    </tr>\n",
       "    <tr>\n",
       "      <td>4</td>\n",
       "      <td>5</td>\n",
       "      <td>浅白</td>\n",
       "      <td>蜷缩</td>\n",
       "      <td>浊响</td>\n",
       "      <td>清晰</td>\n",
       "      <td>凹陷</td>\n",
       "      <td>硬滑</td>\n",
       "      <td>0.556</td>\n",
       "      <td>0.215</td>\n",
       "      <td>是</td>\n",
       "    </tr>\n",
       "  </tbody>\n",
       "</table>\n",
       "</div>"
      ],
      "text/plain": [
       "   index color root noise texture navel touch  density  sugar class\n",
       "0      1    青绿   蜷缩    浊响      清晰    凹陷    硬滑    0.697  0.460     是\n",
       "1      2    乌黑   蜷缩    沉闷      清晰    凹陷    硬滑    0.774  0.376     是\n",
       "2      3    乌黑   蜷缩    浊响      清晰    凹陷    硬滑    0.634  0.264     是\n",
       "3      4    青绿   蜷缩    沉闷      清晰    凹陷    硬滑    0.608  0.318     是\n",
       "4      5    浅白   蜷缩    浊响      清晰    凹陷    硬滑    0.556  0.215     是"
      ]
     },
     "execution_count": 109,
     "metadata": {},
     "output_type": "execute_result"
    }
   ],
   "source": [
    "data[:5]"
   ]
  },
  {
   "cell_type": "markdown",
   "metadata": {},
   "source": [
    "将数据拆成特征向量与目标变量"
   ]
  },
  {
   "cell_type": "code",
   "execution_count": 110,
   "metadata": {},
   "outputs": [],
   "source": [
    "X = data[[\"color\",\"root\",\"noise\",\"texture\",\"navel\",\"touch\",\"density\",\"sugar\"]]\n",
    "y = data[[\"class\"]]"
   ]
  },
  {
   "cell_type": "markdown",
   "metadata": {},
   "source": [
    "# 先做一个简单的决策树"
   ]
  },
  {
   "cell_type": "markdown",
   "metadata": {},
   "source": [
    "拆分数据"
   ]
  },
  {
   "cell_type": "code",
   "execution_count": 111,
   "metadata": {},
   "outputs": [],
   "source": [
    "from sklearn.model_selection import train_test_split\n",
    "X_train, X_test, y_train, y_test = train_test_split(X,y,random_state=10,test_size=0.20)"
   ]
  },
  {
   "cell_type": "markdown",
   "metadata": {},
   "source": [
    "# 模型训练"
   ]
  },
  {
   "cell_type": "markdown",
   "metadata": {},
   "source": [
    "### 导入模型"
   ]
  },
  {
   "cell_type": "markdown",
   "metadata": {},
   "source": [
    "sklearn中关于决策树算法package的使用文档详见:  \n",
    "https://scikit-learn.org/stable/modules/tree.html#classification    \n",
    "https://scikit-learn.org/stable/modules/generated/sklearn.tree.DecisionTreeClassifier.html#sklearn.tree.DecisionTreeClassifier"
   ]
  },
  {
   "cell_type": "code",
   "execution_count": 112,
   "metadata": {},
   "outputs": [],
   "source": [
    "from sklearn.tree import DecisionTreeClassifier\n",
    "clf = DecisionTreeClassifier(criterion = 'entropy')  #这里有很多参数可以设置 其中 criterion{“gini”, “entropy”}, default=”gini”  "
   ]
  },
  {
   "cell_type": "markdown",
   "metadata": {},
   "source": [
    "### 对训练数据进行预处理\n",
    "sklearn中对类别型变量进行编码详见：https://scikit-learn.org/stable/modules/preprocessing.html#encoding-categorical-features"
   ]
  },
  {
   "cell_type": "code",
   "execution_count": 113,
   "metadata": {},
   "outputs": [],
   "source": [
    "\n",
    "#对特征变量进行 ONE-HOT-ENCODING\n",
    "from sklearn.preprocessing import OneHotEncoder\n",
    "ohe = OneHotEncoder(categories=\"auto\",handle_unknown = 'ignore')\n",
    "\n",
    "#对类别型的变量进行 ONE-HOT-ENCODING\n",
    "X_train_cate = X_train[[\"color\",\"root\",\"noise\",\"texture\",\"navel\",\"touch\"]]\n",
    "ohe = ohe.fit(X_train_cate)\n",
    "X_train_cate_ohe = pd.DataFrame(ohe.transform(X_train_cate).toarray())\n",
    "\n",
    "\n",
    "# #对连续型变量无需进行标准化\n",
    "# X_train_continous = X_train[[\"density\",\"sugar\"]]\n",
    "# from sklearn import preprocessing\n",
    "# scaler = preprocessing.StandardScaler().fit(X_train_continous)\n",
    "# X_train_continous_scaled = pd.DataFrame(scaler.transform(X_train_continous))\n",
    "\n",
    "X_train_continous = pd.DataFrame(X_train[[\"density\",\"sugar\"]]).reset_index(drop=True)  #注意这里对索引进行重新排序，否则后面合并的时候会出现错位\n",
    "\n",
    "#再跟原来的特征变量合并到一起\n",
    "X_train_concat = pd.concat([X_train_cate_ohe,X_train_continous],axis=1)\n",
    "# print(X_train_concat[:3])\n",
    "\n",
    "#对标签变量进行0-1编码，对于二分类，可以使用LabelBinarizer，但笔者更喜欢直接用map来显示转换\n",
    "y_train_label = pd.DataFrame(y_train[\"class\"].map({\"是\":1,\"否\":0}))"
   ]
  },
  {
   "cell_type": "markdown",
   "metadata": {},
   "source": [
    "### 下面就可以开始训练数据了"
   ]
  },
  {
   "cell_type": "code",
   "execution_count": 114,
   "metadata": {},
   "outputs": [],
   "source": [
    "model = clf.fit(X_train_concat,y_train_label)"
   ]
  },
  {
   "cell_type": "markdown",
   "metadata": {},
   "source": [
    "### 训练完成就可以预测了"
   ]
  },
  {
   "cell_type": "markdown",
   "metadata": {},
   "source": [
    "#### 注意也要先对数据进行一些预处理"
   ]
  },
  {
   "cell_type": "code",
   "execution_count": 115,
   "metadata": {},
   "outputs": [],
   "source": [
    "# 先对测试数据也进行一些数据预处理，注意要直接使用那些用于处理训练数据的转换操作实例，可以直接调用在训练数据fit好的算子\n",
    "X_test_cate = X_test[[\"color\",\"root\",\"noise\",\"texture\",\"navel\",\"touch\"]]\n",
    "#ohe是上面已经在训练数据上fit后的算子，这里可以直接调用\n",
    "X_test_cate_ohe = pd.DataFrame(ohe.transform(X_test_cate).toarray())\n",
    "\n",
    "\n",
    "X_test_continous = pd.DataFrame(X_test[[\"density\",\"sugar\"]]).reset_index(drop=True)\n",
    "\n",
    "#合并\n",
    "X_test_concat = pd.concat([X_test_cate_ohe,X_test_continous],axis=1)\n",
    "\n",
    "\n",
    "#对标签变量进行0-1编码，对于二分类，可以使用LabelBinarizer，但笔者更喜欢直接用map来显示转换\n",
    "y_test_label = pd.DataFrame(y_test[\"class\"].map({\"是\":1,\"否\":0}))\n"
   ]
  },
  {
   "cell_type": "markdown",
   "metadata": {},
   "source": [
    "#### 然后就可以调用predict了"
   ]
  },
  {
   "cell_type": "code",
   "execution_count": 116,
   "metadata": {},
   "outputs": [
    {
     "name": "stdout",
     "output_type": "stream",
     "text": [
      "[0 1 0 0]\n",
      "    class\n",
      "5       1\n",
      "3       1\n",
      "14      0\n",
      "7       1\n"
     ]
    }
   ],
   "source": [
    "y_predict = model.predict(X_test_concat)\n",
    "print(y_predict)\n",
    "print(y_test_label)"
   ]
  },
  {
   "cell_type": "markdown",
   "metadata": {},
   "source": [
    "### 评估模型结果 "
   ]
  },
  {
   "cell_type": "code",
   "execution_count": 117,
   "metadata": {},
   "outputs": [
    {
     "name": "stdout",
     "output_type": "stream",
     "text": [
      "二分类准确率: 0.500000\n"
     ]
    }
   ],
   "source": [
    "from sklearn.metrics import accuracy_score\n",
    "ratio = accuracy_score(y_test_label,y_predict)\n",
    "print(\"二分类准确率: %f\" % (ratio))"
   ]
  },
  {
   "cell_type": "markdown",
   "metadata": {},
   "source": [
    "### 可以把上述过程画出来哦！"
   ]
  },
  {
   "cell_type": "code",
   "execution_count": 118,
   "metadata": {},
   "outputs": [
    {
     "data": {
      "text/plain": [
       "[Text(133.92000000000002, 190.26, 'X[18] <= 0.126\\nentropy = 0.961\\nsamples = 13\\nvalue = [8, 5]'),\n",
       " Text(66.96000000000001, 135.9, 'entropy = 0.0\\nsamples = 5\\nvalue = [5, 0]'),\n",
       " Text(200.88000000000002, 135.9, 'X[5] <= 0.5\\nentropy = 0.954\\nsamples = 8\\nvalue = [3, 5]'),\n",
       " Text(133.92000000000002, 81.53999999999999, 'X[14] <= 0.5\\nentropy = 0.811\\nsamples = 4\\nvalue = [3, 1]'),\n",
       " Text(66.96000000000001, 27.180000000000007, 'entropy = 0.0\\nsamples = 3\\nvalue = [3, 0]'),\n",
       " Text(200.88000000000002, 27.180000000000007, 'entropy = 0.0\\nsamples = 1\\nvalue = [0, 1]'),\n",
       " Text(267.84000000000003, 81.53999999999999, 'entropy = 0.0\\nsamples = 4\\nvalue = [0, 4]')]"
      ]
     },
     "execution_count": 118,
     "metadata": {},
     "output_type": "execute_result"
    },
    {
     "data": {
      "image/png": "[encoded data removed]",
      "text/plain": [
       "<Figure size 432x288 with 1 Axes>"
      ]
     },
     "metadata": {
      "needs_background": "light"
     },
     "output_type": "display_data"
    }
   ],
   "source": [
    "tree.plot_tree( clf.fit(X_train_concat,y_train_label)) "
   ]
  },
  {
   "cell_type": "markdown",
   "metadata": {},
   "source": [
    "也可以使用graphviz来进行可视化，但该软件安装起来相当棘手，大家可以自行尝试，这里不做演示。"
   ]
  },
  {
   "cell_type": "markdown",
   "metadata": {},
   "source": [
    "### 还可以量化每个特征的重要性~"
   ]
  },
  {
   "cell_type": "code",
   "execution_count": 119,
   "metadata": {},
   "outputs": [
    {
     "name": "stdout",
     "output_type": "stream",
     "text": [
      "[0.         0.         0.         0.         0.         0.35133906\n",
      " 0.         0.         0.         0.         0.         0.\n",
      " 0.         0.         0.25969052 0.         0.         0.\n",
      " 0.38897042]\n"
     ]
    }
   ],
   "source": [
    "from sklearn import metrics\n",
    "print(model.feature_importances_)"
   ]
  },
  {
   "cell_type": "markdown",
   "metadata": {},
   "source": [
    "# THE END"
   ]
  }
 ],
 "metadata": {
  "kernelspec": {
   "display_name": "Python 3",
   "language": "python",
   "name": "python3"
  },
  "language_info": {
   "codemirror_mode": {
    "name": "ipython",
    "version": 3
   },
   "file_extension": ".py",
   "mimetype": "text/x-python",
   "name": "python",
   "nbconvert_exporter": "python",
   "pygments_lexer": "ipython3",
   "version": "3.7.4"
  }
 },
 "nbformat": 4,
 "nbformat_minor": 4
}
